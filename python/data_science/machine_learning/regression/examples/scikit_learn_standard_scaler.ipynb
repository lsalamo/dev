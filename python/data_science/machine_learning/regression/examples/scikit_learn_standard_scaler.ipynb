{
 "cells": [
  {
   "cell_type": "markdown",
   "metadata": {},
   "source": [
    "# SCIKIT LEARN - STANDARD SCALER\n",
    "\n",
    "$$z = \\frac{(x - \\bar{x})}{\\sigma}$$\n",
    "$$\\sigma = \\sqrt{\\frac{\\sum_{i=1}^{n} (x_{i} - \\bar{x})^{2}}{n}}$$"
   ]
  },
  {
   "cell_type": "code",
   "execution_count": 11,
   "metadata": {},
   "outputs": [],
   "source": [
    "import numpy as np\n",
    "from sklearn.preprocessing import StandardScaler\n",
    "from sklearn.linear_model import LinearRegression\n",
    "\n",
    "# Sample data x = \"square meters\" and y  = \"price\"\n",
    "x = np.array([45, 50, 60, 60, 70, 80, 90, 90, 100, 110])  # Independent variable (features)\n",
    "y = np.array([150, 160, 200, 180, 230, 250, 300, 280, 300, 400])  # Dependent variable (target)\n",
    "# Reshape x for sklearn\n",
    "x_reshaped = x.reshape(-1, 1)"
   ]
  },
  {
   "cell_type": "code",
   "execution_count": 7,
   "metadata": {},
   "outputs": [
    {
     "name": "stdout",
     "output_type": "stream",
     "text": [
      "Number of observations: 10\n"
     ]
    }
   ],
   "source": [
    "# Number of observations\n",
    "n = len(x) \n",
    "print(f\"Number of observations: {n}\")"
   ]
  },
  {
   "cell_type": "code",
   "execution_count": 19,
   "metadata": {},
   "outputs": [
    {
     "name": "stdout",
     "output_type": "stream",
     "text": [
      "Standardized Data:\n",
      " [[-1.46700751]\n",
      " [-1.22651448]\n",
      " [-0.74552841]\n",
      " [-0.74552841]\n",
      " [-0.26454234]\n",
      " [ 0.21644373]\n",
      " [ 0.6974298 ]\n",
      " [ 0.6974298 ]\n",
      " [ 1.17841587]\n",
      " [ 1.65940194]]\n",
      "Mean: 75.5\n",
      "Standard Deviation: 20.79062288629179\n",
      "Standardized Data (Manual):\n",
      " [[-1.46700751]\n",
      " [-1.22651448]\n",
      " [-0.74552841]\n",
      " [-0.74552841]\n",
      " [-0.26454234]\n",
      " [ 0.21644373]\n",
      " [ 0.6974298 ]\n",
      " [ 0.6974298 ]\n",
      " [ 1.17841587]\n",
      " [ 1.65940194]]\n",
      "y_pred_poly:\n",
      "[501.37651822]\n"
     ]
    }
   ],
   "source": [
    "# Estandarizar los datos\n",
    "scaler = StandardScaler()\n",
    "x_scaler = scaler.fit_transform(x_reshaped)\n",
    "print(f\"Standardized Data:\\n {x_scaler}\")\n",
    "\n",
    "# Estandarizar los datos manualmente\n",
    "mean = np.mean(x_reshaped)\n",
    "std_dev = np.std(x_reshaped)\n",
    "x_scaler = (x_reshaped - mean) / std_dev\n",
    "print(f\"Mean: {mean}\")\n",
    "print(f\"Standard Deviation: {std_dev}\")\n",
    "print(f\"Standardized Data (Manual):\\n {x_scaler}\")\n",
    "\n",
    "# Crear el modelo de regresión lineal\n",
    "model = LinearRegression()\n",
    "\n",
    "# Entrenar el modelo\n",
    "model.fit(x_scaler, y)\n",
    "\n",
    "# Forecast the future sales\n",
    "x_test = np.array([150]).reshape(-1, 1)\n",
    "x_test_scaler = scaler.transform(x_test)\n",
    "y_pred_scaler = model.predict(x_test_scaler)\n",
    "print(f\"y_pred_scaler:\\n{y_pred_scaler}\")"
   ]
  },
  {
   "cell_type": "markdown",
   "metadata": {},
   "source": [
    "El método **fit_transform** calcula la media y la desviación estándar de los datos y luego los transforma para que tengan media cero y varianza unitaria (desviación estándar de 1)."
   ]
  },
  {
   "cell_type": "code",
   "execution_count": 5,
   "metadata": {},
   "outputs": [
    {
     "name": "stdout",
     "output_type": "stream",
     "text": [
      "Standardized Data:\n",
      " [[-1.41421356]\n",
      " [-0.70710678]\n",
      " [ 0.        ]\n",
      " [ 0.70710678]\n",
      " [ 1.41421356]]\n",
      "Mean: 30.0\n",
      "Standard Deviation: 14.142135623730951\n",
      "Standardized Data (Manual):\n",
      " [[-1.41421356]\n",
      " [-0.70710678]\n",
      " [ 0.        ]\n",
      " [ 0.70710678]\n",
      " [ 1.41421356]]\n"
     ]
    }
   ],
   "source": [
    "# Estandarizar / Normalizar los datos\n",
    "scaler = StandardScaler()\n",
    "standardized_data = scaler.fit_transform(data)\n",
    "print(f\"Standardized Data:\\n {standardized_data}\")\n",
    "\n",
    "# Estandarizar los datos manualmente\n",
    "mean = np.mean(data)\n",
    "std_dev = np.std(data)\n",
    "standardized_data = (data - mean) / std_dev\n",
    "print(f\"Mean: {mean}\")\n",
    "print(f\"Standard Deviation: {std_dev}\")\n",
    "print(f\"Standardized Data (Manual):\\n {standardized_data}\")"
   ]
  },
  {
   "cell_type": "code",
   "execution_count": 4,
   "metadata": {},
   "outputs": [
    {
     "ename": "NameError",
     "evalue": "name 'pd' is not defined",
     "output_type": "error",
     "traceback": [
      "\u001b[0;31m---------------------------------------------------------------------------\u001b[0m",
      "\u001b[0;31mNameError\u001b[0m                                 Traceback (most recent call last)",
      "Cell \u001b[0;32mIn[4], line 2\u001b[0m\n\u001b[1;32m      1\u001b[0m \u001b[38;5;66;03m# Resumen\u001b[39;00m\n\u001b[0;32m----> 2\u001b[0m df_result \u001b[38;5;241m=\u001b[39m \u001b[43mpd\u001b[49m\u001b[38;5;241m.\u001b[39mDataFrame({\n\u001b[1;32m      3\u001b[0m     \u001b[38;5;124m'\u001b[39m\u001b[38;5;124mx\u001b[39m\u001b[38;5;124m'\u001b[39m: data,\n\u001b[1;32m      4\u001b[0m     \u001b[38;5;124m'\u001b[39m\u001b[38;5;124mmena\u001b[39m\u001b[38;5;124m'\u001b[39m: y_pred,\n\u001b[1;32m      5\u001b[0m     \u001b[38;5;124m'\u001b[39m\u001b[38;5;124my_pred_poly\u001b[39m\u001b[38;5;124m'\u001b[39m: y_pred_poly\n\u001b[1;32m      6\u001b[0m })\n\u001b[1;32m      7\u001b[0m \u001b[38;5;28mprint\u001b[39m(df_result)\n",
      "\u001b[0;31mNameError\u001b[0m: name 'pd' is not defined"
     ]
    }
   ],
   "source": [
    "# Resumen\n",
    "df_result = pd.DataFrame({\n",
    "    'x': data,\n",
    "    'mena': y_pred,\n",
    "    'y_pred_poly': y_pred_poly\n",
    "})\n",
    "print(df_result)"
   ]
  }
 ],
 "metadata": {
  "kernelspec": {
   "display_name": ".venv",
   "language": "python",
   "name": "python3"
  },
  "language_info": {
   "codemirror_mode": {
    "name": "ipython",
    "version": 3
   },
   "file_extension": ".py",
   "mimetype": "text/x-python",
   "name": "python",
   "nbconvert_exporter": "python",
   "pygments_lexer": "ipython3",
   "version": "3.11.7"
  }
 },
 "nbformat": 4,
 "nbformat_minor": 2
}
