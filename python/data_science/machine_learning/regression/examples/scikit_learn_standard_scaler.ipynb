{
 "cells": [
  {
   "cell_type": "markdown",
   "metadata": {},
   "source": [
    "# SCIKIT LEARN - STANDARD SCALER\n",
    "\n",
    "$$z = \\frac{(x - \\bar{x})}{\\sigma}$$\n",
    "$$\\sigma = \\sqrt{\\frac{\\sum_{i=1}^{n} (x_{i} - \\bar{x})^{2}}{n}}$$"
   ]
  },
  {
   "cell_type": "code",
   "execution_count": 2,
   "metadata": {},
   "outputs": [
    {
     "name": "stdout",
     "output_type": "stream",
     "text": [
      "Original Data:\n",
      "[[10]\n",
      " [20]\n",
      " [30]\n",
      " [40]\n",
      " [50]]\n"
     ]
    }
   ],
   "source": [
    "import numpy as np\n",
    "from sklearn.preprocessing import StandardScaler\n",
    "\n",
    "# Sample data\n",
    "data = np.array([[10], [20], [30], [40], [50]])\n",
    "print(\"Original Data:\")\n",
    "print(data)"
   ]
  },
  {
   "cell_type": "markdown",
   "metadata": {},
   "source": [
    "El método **fit_transform** calcula la media y la desviación estándar de los datos y luego los transforma para que tengan media cero y varianza unitaria (desviación estándar de 1)."
   ]
  },
  {
   "cell_type": "code",
   "execution_count": 7,
   "metadata": {},
   "outputs": [
    {
     "name": "stdout",
     "output_type": "stream",
     "text": [
      "Standardized Data:\n",
      " [[-1.41421356]\n",
      " [-0.70710678]\n",
      " [ 0.        ]\n",
      " [ 0.70710678]\n",
      " [ 1.41421356]]\n",
      "[[-20.]\n",
      " [-10.]\n",
      " [  0.]\n",
      " [ 10.]\n",
      " [ 20.]]\n",
      "nMean: 30.0\n",
      "Standard Deviation: 14.142135623730951\n",
      "Standardized Data:\n",
      " [[-1.41421356]\n",
      " [-0.70710678]\n",
      " [ 0.        ]\n",
      " [ 0.70710678]\n",
      " [ 1.41421356]]\n"
     ]
    }
   ],
   "source": [
    "# Estandarizar / Normalizar los datos\n",
    "scaler = StandardScaler()\n",
    "standardized_data = scaler.fit_transform(data)\n",
    "print(f\"Standardized Data:\\n {standardized_data}\")\n",
    "\n",
    "# Estandarizar los datos manualmente\n",
    "mean = np.mean(data)\n",
    "std_dev = np.std(data)\n",
    "standardized_data = (data - mean) / std_dev\n",
    "print(data - mean)\n",
    "print(f\"nMean: {mean}\")\n",
    "print(f\"Standard Deviation: {std_dev}\")\n",
    "print(f\"Standardized Data:\\n {standardized_data}\")"
   ]
  },
  {
   "cell_type": "code",
   "execution_count": null,
   "metadata": {},
   "outputs": [],
   "source": [
    "# Resumen\n",
    "df_result = pd.DataFrame({\n",
    "    'x': data,\n",
    "    'mena': y_pred,\n",
    "    'y_pred_poly': y_pred_poly\n",
    "})\n",
    "print(df_result)"
   ]
  }
 ],
 "metadata": {
  "kernelspec": {
   "display_name": ".venv",
   "language": "python",
   "name": "python3"
  },
  "language_info": {
   "codemirror_mode": {
    "name": "ipython",
    "version": 3
   },
   "file_extension": ".py",
   "mimetype": "text/x-python",
   "name": "python",
   "nbconvert_exporter": "python",
   "pygments_lexer": "ipython3",
   "version": "3.11.7"
  }
 },
 "nbformat": 4,
 "nbformat_minor": 2
}
